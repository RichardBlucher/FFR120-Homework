{
 "cells": [
  {
   "cell_type": "code",
   "execution_count": 1,
   "metadata": {},
   "outputs": [],
   "source": [
    "import numpy as np\n",
    "import math\n",
    "from matplotlib import pyplot as plt\n"
   ]
  },
  {
   "cell_type": "code",
   "execution_count": 3,
   "metadata": {},
   "outputs": [
    {
     "ename": "SyntaxError",
     "evalue": "incomplete input (2056187908.py, line 8)",
     "output_type": "error",
     "traceback": [
      "\u001b[1;36m  Cell \u001b[1;32mIn[3], line 8\u001b[1;36m\u001b[0m\n\u001b[1;33m    \u001b[0m\n\u001b[1;37m    ^\u001b[0m\n\u001b[1;31mSyntaxError\u001b[0m\u001b[1;31m:\u001b[0m incomplete input\n"
     ]
    }
   ],
   "source": [
    "def sense(x, y, theta, phi):\n",
    "    N_particles = len(x)\n",
    "    right = False\n",
    "    left = False\n",
    "    middle = False\n",
    "\n",
    "    for i in range(N_particles):\n",
    "        \n"
   ]
  },
  {
   "cell_type": "code",
   "execution_count": 3,
   "metadata": {},
   "outputs": [],
   "source": [
    "def deposit(x, y, trailmap):\n",
    "    for i in range(len(x)):\n",
    "        trailmap[x[i], y[i]] = 1\n",
    "    return trailmap\n"
   ]
  },
  {
   "cell_type": "code",
   "execution_count": 26,
   "metadata": {},
   "outputs": [],
   "source": [
    "def diffuse(trailmap):\n",
    "    n, m = trailmap.shape\n",
    "    for i in range(int(np.floor(n/3))):\n",
    "        for j in range(int(np.floor(m/3))):\n",
    "            k = i*3-1\n",
    "            l = j*3-1\n",
    "            \n",
    "            \n",
    "            trailmap[k-1:k+2, l-1:l+2] = np.mean(trailmap[k-1:k+2, l-1:l+2])\n",
    "    return trailmap\n",
    "            \n"
   ]
  },
  {
   "cell_type": "code",
   "execution_count": 15,
   "metadata": {},
   "outputs": [],
   "source": [
    "def decay(trailmap):\n",
    "    trailmap = trailmap*0.95\n",
    "\n",
    "    return trailmap"
   ]
  },
  {
   "cell_type": "code",
   "execution_count": 11,
   "metadata": {},
   "outputs": [
    {
     "name": "stdout",
     "output_type": "stream",
     "text": [
      "[4, 5]\n"
     ]
    }
   ],
   "source": [
    "a = [0,1,2,3,4,5,6,7,8,9]\n",
    "\n",
    "print(a[5-1:5+1])"
   ]
  },
  {
   "cell_type": "code",
   "execution_count": 38,
   "metadata": {},
   "outputs": [],
   "source": [
    "N_part = 1  # Number of particles.\n",
    "L = 100  # Dimension of the squared arena.\n",
    "\n",
    "v = 1  # Speed.\n",
    "#Rf = 3  # Flocking radius.\n",
    "#eta = 0.1  # Noise.  Try values: 0.01, 0.3, 1.0, 2 * np.pi\n",
    "dt = 1  # Time step.\n",
    "\n",
    "\n",
    "# Initialization.\n",
    "\n",
    "# Random position.\n",
    "x = np.random.randint(0, L, N_part) \n",
    "y = np.random.randint(0, L, N_part)  \n",
    "\n",
    "# Random orientation.\n",
    "theta = 2 * (np.random.rand(N_part) - 0.5) * np.pi  # in [-pi, pi]\n",
    "\n",
    "\n",
    "trailmap = np.zeros([L,L])"
   ]
  },
  {
   "cell_type": "code",
   "execution_count": 39,
   "metadata": {},
   "outputs": [
    {
     "name": "stdout",
     "output_type": "stream",
     "text": [
      "21 84\n",
      "21 83\n",
      "21 82\n",
      "21 81\n",
      "21 80\n",
      "21 79\n",
      "21 78\n",
      "21 77\n",
      "21 76\n",
      "21 75\n",
      "21 74\n",
      "21 73\n",
      "21 72\n",
      "21 71\n",
      "21 70\n",
      "21 69\n",
      "21 68\n",
      "21 67\n",
      "21 66\n",
      "21 65\n",
      "21 64\n",
      "21 63\n",
      "21 62\n",
      "21 61\n",
      "21 60\n",
      "21 59\n",
      "21 58\n",
      "21 57\n",
      "21 56\n",
      "21 55\n",
      "21 54\n",
      "21 53\n",
      "21 52\n",
      "21 51\n",
      "21 50\n",
      "21 49\n",
      "21 48\n",
      "21 47\n",
      "21 46\n",
      "21 45\n",
      "21 44\n",
      "21 43\n",
      "21 42\n",
      "21 41\n",
      "21 40\n",
      "21 39\n",
      "21 38\n",
      "21 37\n",
      "21 36\n",
      "21 35\n"
     ]
    },
    {
     "data": {
      "text/plain": [
       "<matplotlib.image.AxesImage at 0x2b053b87e90>"
      ]
     },
     "execution_count": 39,
     "metadata": {},
     "output_type": "execute_result"
    },
    {
     "data": {
      "image/png": "[encoded data removed]",
      "text/plain": [
       "<Figure size 640x480 with 1 Axes>"
      ]
     },
     "metadata": {},
     "output_type": "display_data"
    }
   ],
   "source": [
    "import time\n",
    "from scipy.constants import Boltzmann as kB \n",
    "from tkinter import *\n",
    "\n",
    "window_size = 600\n",
    "\n",
    "rp = 0.5  # Plotting radius of a particle.\n",
    "vp = 1  # Length of the arrow indicating the velocity direction.\n",
    "line_width = 1  # Width of the arrow line.\n",
    "\n",
    "N_skip = 1\n",
    "\n",
    "tk = Tk()\n",
    "tk.geometry(f'{window_size + 20}x{window_size + 20}')\n",
    "tk.configure(background='#000000')\n",
    "\n",
    "canvas = Canvas(tk, background='#ECECEC')  # Generate animation window \n",
    "tk.attributes('-topmost', 0)\n",
    "canvas.place(x=10, y=10, height=window_size, width=window_size)\n",
    "\n",
    "particles = []\n",
    "for j in range(N_part):\n",
    "    particles.append(\n",
    "        canvas.create_oval(\n",
    "            (x[j] - rp) / L * window_size, \n",
    "            (y[j] - rp) / L * window_size,\n",
    "            (x[j] + rp) / L * window_size, \n",
    "            (y[j] + rp) / L * window_size,\n",
    "            outline='#FF0000', \n",
    "            fill='#FF0000',\n",
    "        )\n",
    "    )\n",
    "\n",
    "velocities = []\n",
    "for j in range(N_part):\n",
    "    velocities.append(\n",
    "        canvas.create_line(\n",
    "            x[j] / L * window_size, \n",
    "            y[j] / L * window_size,\n",
    "            (x[j] + vp * np.cos(theta[j])) / L * window_size, \n",
    "            (y[j] + vp * np.cos(theta[j])) / L * window_size,\n",
    "            width=line_width\n",
    "        )\n",
    "    )\n",
    "\n",
    "step = 0\n",
    "\n",
    "def stop_loop(event):\n",
    "    global running\n",
    "    running = False\n",
    "tk.bind(\"<Escape>\", stop_loop)  # Bind the Escape key to stop the loop.\n",
    "running = True  # Flag to control the loop.\n",
    "while running:\n",
    "    \n",
    "    # Calculate next theta from the rule.\n",
    "    #dtheta = eta * (np.random.rand(N_part) - 0.5) * dt\n",
    "    #ntheta = interaction(x, y, theta, Rf, L) + dtheta\n",
    "    nx = x + np.round(v * np.cos(theta))\n",
    "    ny = y + np.round(v * np.sin(theta))\n",
    "    \n",
    "    nvx = np.round(v * np.cos(theta))\n",
    "    nvy = np.round(v * np.sin(theta))\n",
    "\n",
    "\n",
    "    ntheta = theta\n",
    "    # Reflecting boundary conditions.\n",
    "    #nx, ny = pbc(nx, ny, L)\n",
    "        \n",
    "    # Update animation frame.\n",
    "    if step % N_skip == 0:        \n",
    "        for j, particle in enumerate(particles):\n",
    "            canvas.coords(\n",
    "                particle,\n",
    "                (nx[j] - rp) / L * window_size,\n",
    "                (ny[j] - rp) / L * window_size ,\n",
    "                (nx[j] + rp) / L * window_size ,\n",
    "                (ny[j] + rp) / L * window_size ,\n",
    "            )\n",
    "                    \n",
    "        for j, velocity in enumerate(velocities):\n",
    "            canvas.coords(\n",
    "                velocity,\n",
    "                nx[j] / L * window_size,\n",
    "                ny[j] / L * window_size,\n",
    "                (nx[j] + vp * np.cos(theta[j])) / L * window_size,\n",
    "                (ny[j] + vp * np.sin(theta[j])) / L * window_size,\n",
    "            )\n",
    "                    \n",
    "        tk.title(f'Time {step * dt:.1f} - Iteration {step}')\n",
    "        tk.update_idletasks()\n",
    "        tk.update()\n",
    "        time.sleep(0.01)  # Increase to slow down the simulation.    \n",
    "\n",
    "\n",
    "    # Reflecting boundary conditions.\n",
    "    for j in range(N_part):\n",
    "        if nx[j] < 0:\n",
    "            nx[j] = 0 + (0 - nx[j])\n",
    "            nvx[j] = - nvx[j]\n",
    "\n",
    "        if nx[j] > L-1:\n",
    "            nx[j] = L-1 - (nx[j] - L+1)\n",
    "            nvx[j] = - nvx[j]\n",
    "\n",
    "        if ny[j] < 0:\n",
    "            ny[j] = 0 + (0 - ny[j])\n",
    "            nvy[j] = - nvy[j]\n",
    "            \n",
    "        if ny[j] > L-1:\n",
    "            ny[j] = L-1 - (ny[j] - L+1)\n",
    "            nvy[j] = - nvy[j]\n",
    "    \n",
    "    nv = np.sqrt(nvx ** 2 + nvy ** 2)\n",
    "    for i in range(N_part):\n",
    "        ntheta[i] = math.atan2(nvy[i], nvx[i])\n",
    "\n",
    "\n",
    "    step += 1\n",
    "    \n",
    "    x[:] = nx[:]\n",
    "    y[:] = ny[:]\n",
    "    theta[:] = ntheta[:]  \n",
    "\n",
    "    trailmap = deposit(x, y, trailmap)\n",
    "    trailmap = diffuse(trailmap)\n",
    "    trailmap = decay(trailmap)\n",
    "    print(x[0], y[0])\n",
    "    if step == 50:\n",
    "        running = False\n",
    "\n",
    "tk.update_idletasks()\n",
    "tk.update()\n",
    "tk.mainloop()  # Release animation handle (close window to finish).\n",
    "plt.imshow(trailmap)"
   ]
  }
 ],
 "metadata": {
  "kernelspec": {
   "display_name": "ffr120-env",
   "language": "python",
   "name": "python3"
  },
  "language_info": {
   "codemirror_mode": {
    "name": "ipython",
    "version": 3
   },
   "file_extension": ".py",
   "mimetype": "text/x-python",
   "name": "python",
   "nbconvert_exporter": "python",
   "pygments_lexer": "ipython3",
   "version": "3.12.5"
  }
 },
 "nbformat": 4,
 "nbformat_minor": 2
}
